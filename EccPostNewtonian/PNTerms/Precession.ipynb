{
 "cells": [
  {
   "cell_type": "code",
   "execution_count": 1,
   "metadata": {},
   "outputs": [
    {
     "name": "stderr",
     "output_type": "stream",
     "text": [
      "/home/dzsun/miniconda3/lib/python3.9/site-packages/IPython/nbformat.py:12: ShimWarning: The `IPython.nbformat` package has been deprecated since IPython 4.0. You should import from nbformat instead.\n",
      "  warn(\"The `IPython.nbformat` package has been deprecated since IPython 4.0. \"\n"
     ]
    }
   ],
   "source": [
    "# Always run this first\n",
    "# NOTE: Do not define new basic variables in this notebook;\n",
    "#       define them in Variables_Q.ipynb.  Use this notebook\n",
    "#       to define new expressions built from those variables.\n",
    "\n",
    "from __future__ import division # This needs to be here, even though it's in Variables_Q.ipynb\n",
    "import sys\n",
    "sys.path.insert(0, '..') # Look for modules in directory above this one\n",
    "execfile('../Utilities/ExecNotebook.ipy')\n",
    "try: execnotebook(VariablesNotebook)\n",
    "except: execnotebook('Variables_Q.ipynb')"
   ]
  },
  {
   "cell_type": "markdown",
   "metadata": {},
   "source": [
    "The following `PNCollection` objects will contain all the terms describing precession."
   ]
  },
  {
   "cell_type": "code",
   "execution_count": 2,
   "metadata": {},
   "outputs": [],
   "source": [
    "Precession_ellHat  = PNCollection()\n",
    "Precession_chiVec1 = PNCollection()\n",
    "Precession_chiVec2 = PNCollection()"
   ]
  },
  {
   "cell_type": "markdown",
   "metadata": {},
   "source": [
    "# Precession of orbital angular velocity $\\vec{\\Omega}_{\\hat{\\ell}}$"
   ]
  },
  {
   "cell_type": "markdown",
   "metadata": {},
   "source": [
    "[Bohé et al. (2013)](http://arxiv.org/abs/1212.5520v2) say that the precession of the orbital angular velocity is along $\\hat{n}$, with magnitude (in their notation) $a_{\\ell}/r\\omega = \\gamma\\, a_{\\ell} / v^3$.\n",
    "\n",
    "*NOTE:* There is a 3pN gauge term in $\\gamma_{\\text{PN}}$ that I have simply dropped here.  It is $\\ln(r/r_0')$.\n",
    "\n",
    "The following two cells are Eqs. (4.3) and (4.4) of [Bohé et al. (2013)](http://arxiv.org/abs/1212.5520v2), respectively."
   ]
  },
  {
   "cell_type": "code",
   "execution_count": 3,
   "metadata": {},
   "outputs": [],
   "source": [
    "Precession_ellHat.AddDerivedVariable('gamma_PN_coeff', v**2)\n",
    "\n",
    "Precession_ellHat.AddDerivedConstant('gamma_PN_0', 1)\n",
    "# gamma_PN_1 is 0\n",
    "Precession_ellHat.AddDerivedConstant('gamma_PN_2', -nu/3 + 1)\n",
    "Precession_ellHat.AddDerivedVariable('gamma_PN_3', (5*S_ell/3 + Sigma_ell*delta)/M**2)\n",
    "Precession_ellHat.AddDerivedConstant('gamma_PN_4', -65*nu/12 + 1)\n",
    "Precession_ellHat.AddDerivedVariable('gamma_PN_5',\n",
    "    ((frac(8,9)*nu + frac(10,3))*S_ell + 2*Sigma_ell*delta)/M**2)\n",
    "Precession_ellHat.AddDerivedConstant('gamma_PN_6',\n",
    "    nu**3/81 + 229*nu**2/36 - 41*pi**2*nu/192 - 2203*nu/2520 + 1)\n",
    "Precession_ellHat.AddDerivedVariable('gamma_PN_7',\n",
    "    ((-6*nu**2 - 127*nu/12 + 5)*S_ell - 8*Sigma_ell*delta*nu**2/3 + (-61*nu/6 + 3)*Sigma_ell*delta)/M**2)"
   ]
  },
  {
   "cell_type": "code",
   "execution_count": 4,
   "metadata": {},
   "outputs": [],
   "source": [
    "Precession_ellHat.AddDerivedVariable('a_ell_coeff', v**7/M**3)\n",
    "\n",
    "Precession_ellHat.AddDerivedVariable('a_ell_0', 7*S_n + 3*Sigma_n*delta)\n",
    "# gamma_PN_1 is 0\n",
    "Precession_ellHat.AddDerivedVariable('a_ell_2', (-29*nu/3-10)*S_n + (-9*nu/2-6)*delta*Sigma_n)\n",
    "# gamma_PN_3 is 0\n",
    "Precession_ellHat.AddDerivedVariable('a_ell_4',\n",
    "    (frac(52,9)*nu**2 + frac(59,4)*nu + frac(3,2))*S_n\n",
    "     + (frac(17,6)*nu**2 + frac(73,8)*nu + frac(3,2))*delta*Sigma_n)"
   ]
  },
  {
   "cell_type": "code",
   "execution_count": 5,
   "metadata": {},
   "outputs": [],
   "source": [
    "def Precession_ellHatExpression(PNOrder=frac(7,2)):\n",
    "    OmegaVec_ellHat = (gamma_PN_coeff.substitution*a_ell_coeff.substitution/v**3)\\\n",
    "        *horner(sum([key*(v**n) for n in range(2*PNOrder+1)\n",
    "                     for key,val in Precession_ellHat.items() if val==('gamma_PN_{0}'.format(n))]))\\\n",
    "        *horner(sum([key*(v**n) for n in range(2*PNOrder+1)\n",
    "                     for key,val in Precession_ellHat.items() if val==('a_ell_{0}'.format(n))]))\n",
    "    return OmegaVec_ellHat"
   ]
  },
  {
   "cell_type": "code",
   "execution_count": 6,
   "metadata": {},
   "outputs": [],
   "source": [
    "# Precession_ellHatExpression()"
   ]
  },
  {
   "cell_type": "markdown",
   "metadata": {},
   "source": [
    "# Precession of spins $\\vec{\\Omega}_{1,2}$"
   ]
  },
  {
   "cell_type": "markdown",
   "metadata": {},
   "source": [
    "Equation (4.5) of [Bohé et al. (2013)](http://arxiv.org/abs/1212.5520v2) gives spin-orbit terms:"
   ]
  },
  {
   "cell_type": "code",
   "execution_count": 7,
   "metadata": {},
   "outputs": [],
   "source": [
    "Precession_chiVec1.AddDerivedVariable('Omega1_coeff', v**5/M)\n",
    "\n",
    "Precession_chiVec1.AddDerivedVariable('OmegaVec1_SO_0',\n",
    "    (frac(3,4) + frac(1,2)*nu - frac(3,4)*delta)*ellHat, datatype=ellHat.datatype)\n",
    "Precession_chiVec1.AddDerivedVariable('OmegaVec1_SO_2',\n",
    "    (frac(9,16) + frac(5,4)*nu - frac(1,24)*nu**2 + delta*(-frac(9,16)+frac(5,8)*nu))*ellHat, datatype=ellHat.datatype)\n",
    "Precession_chiVec1.AddDerivedVariable('OmegaVec1_SO_4',\n",
    "    (frac(27,32) + frac(3,16)*nu - frac(105,32)*nu**2 - frac(1,48)*nu**3\n",
    "     + delta*(-frac(27,32) + frac(39,8)*nu - frac(5,32)*nu**2))*ellHat, datatype=ellHat.datatype)"
   ]
  },
  {
   "cell_type": "markdown",
   "metadata": {},
   "source": [
    "In his Eqs. (2.4), [Kidder (1995)](http://link.aps.org/doi/10.1103/PhysRevD.52.821) summarized certain spin-spin terms:"
   ]
  },
  {
   "cell_type": "code",
   "execution_count": 8,
   "metadata": {},
   "outputs": [],
   "source": [
    "Precession_chiVec1.AddDerivedVariable('OmegaVec1_SS_1', M2**2*(-chiVec2+3*chi2_n*nHat)/M**2, datatype=nHat.datatype)\n",
    "Precession_chiVec1.AddDerivedVariable('OmegaVec1_SS_3', \n",
    "                                      nHat*((13*S1_n)/4. - (delta*S1_n)/4.-(3*S1_n)/(2.*nu) + (3*delta*S1_n)/(2.*nu) + (nu*S1_n)/2. + ((3*delta + 4*(-3 + nu))*S2_n)/2. -  3*(-3 + nu)*S2_n +  (3*(-3 + nu)*(-1 + delta + 2*nu)*S1_n*kappa_1)/(2.*nu) -  (3*(5 + 5*delta*(-1 + nu) - 15*nu + 2*nu**2)*S1_n*kappa_1)/(4.*nu))\n",
    "                                      + S2*(-3 + (2 - delta - 2*nu)/2. + nu)\n",
    "                                      + lambdaHat*(((4 + delta)*S2_lambda)/2.), datatype=nHat.datatype)\n",
    "Precession_chiVec1.AddDerivedVariable('OmegaVec1_SS_4', \n",
    "                                      nHat*( (15*S_ell*S2_n)/M**2 -   (15*(-1 + delta + 2*nu)*S_ell*S1_n*kappa_1)/  (2.*M**2*nu) + (9*delta*S2_n*Sigma_ell)/M**3 -  (9*delta*(-1 + delta + 2*nu)*S1_n*kappa_1*Sigma_ell)/ (2.*M**3*nu))\n",
    "                                      + S2*((-5*S_ell)/M**2 - (3*delta*Sigma_ell)/M**3)\n",
    "                                      + lambdaHat*((-3*S1_lambda*(1 + delta*(-1 + nu) - 3*nu + 2*(-1 + delta + 2*nu)*kappa_1))/(4.*nu)), datatype=nHat.datatype)\n",
    "#print(\"WARNING: OmegaVec1_SS_1 in Precession.ipynb is disabled temporarily\")"
   ]
  },
  {
   "cell_type": "markdown",
   "metadata": {},
   "source": [
    "***NOTE: Is Etienne's notation consistent with others? ***  It seems like when he introduces other people's terms, he mixes $\\hat{n}$ and $\\hat{\\ell}$.\n",
    "\n",
    "Finally, in his Eq. (2.7) [Racine (2008)](http://link.aps.org/doi/10.1103/PhysRevD.78.044021) added a quadrupole-monopole term along $\\hat{n}$:"
   ]
  },
  {
   "cell_type": "code",
   "execution_count": 9,
   "metadata": {},
   "outputs": [],
   "source": [
    "Precession_chiVec1.AddDerivedVariable('OmegaVec1_QM_1', 3*nu*chi1_n*nHat, datatype=nHat.datatype)\n",
    "#print(\"WARNING: OmegaVec1_QM_1 in Precession.ipynb is disabled temporarily\")"
   ]
  },
  {
   "cell_type": "markdown",
   "metadata": {},
   "source": [
    "For the precession vector of the other spin, rather than re-entering the same things with 1 and 2 swapped, we just let python do it:"
   ]
  },
  {
   "cell_type": "code",
   "execution_count": 10,
   "metadata": {},
   "outputs": [],
   "source": [
    "for key,val in Precession_chiVec1.items():\n",
    "    try:\n",
    "        tmp = key.substitution.subs({delta: -delta, M1:'swap1', M2:M1, chi1_n:'swap2', chi2_n:chi1_n,\n",
    "                                     chiVec1:'swap3', chiVec2:chiVec1, S1_n:'swap4', S2_n:S1_n, \n",
    "                                     kappa_1:'swap5', kappa_2:kappa_1, S1_lambda:'swap6', \n",
    "                                     S2_lambda:S1_lambda, S1:'swap7', S2:S1}).subs({'swap1':M2,'swap2':chi2_n,'swap3':chiVec2,\n",
    "                                                                                    'swap4':S2_n,'swap5':kappa_2,\n",
    "                                                                                    'swap6':S2_lambda,'swap7':S2})\n",
    "        Precession_chiVec2.AddDerivedVariable(val.replace('OmegaVec1', 'OmegaVec2').replace('Omega1', 'Omega2'),\n",
    "                                              tmp, datatype=key.datatype)\n",
    "    except AttributeError:\n",
    "        Precession_chiVec2.AddDerivedVariable(val.replace('OmegaVec1', 'OmegaVec2').replace('Omega1', 'Omega2'),\n",
    "                                              key, datatype=key.datatype)"
   ]
  },
  {
   "cell_type": "markdown",
   "metadata": {},
   "source": [
    "Finally, we define functions to put them together:"
   ]
  },
  {
   "cell_type": "code",
   "execution_count": 11,
   "metadata": {},
   "outputs": [],
   "source": [
    "def Precession_chiVec1Expression(PNOrder=frac(7,2)):\n",
    "    return Omega1_coeff*collect(expand(sum([key.substitution*(v**n)\n",
    "                                            for n in range(2*PNOrder+1)\n",
    "                                            for key,val in Precession_chiVec1.items()\n",
    "                                            if val.endswith('_{0}'.format(n))])),\n",
    "                                [ellHat,nHat,lambdaHat,chiVec1,chiVec2,S1,S2], horner)\n",
    "def Precession_chiVec2Expression(PNOrder=frac(7,2)):\n",
    "    return Omega2_coeff*collect(expand(sum([key.substitution*(v**n)\n",
    "                                            for n in range(2*PNOrder+1)\n",
    "                                            for key,val in Precession_chiVec2.items()\n",
    "                                            if val.endswith('_{0}'.format(n))])),\n",
    "                                [ellHat,nHat,lambdaHat,chiVec1,chiVec2,S1,S2], horner)"
   ]
  },
  {
   "cell_type": "code",
   "execution_count": 12,
   "metadata": {},
   "outputs": [
    {
     "data": {
      "image/png": "[encoded data removed]",
      "text/latex": [
       "$\\displaystyle \\Omega_{2 coeff} \\left(\\hat{\\ell} \\left(\\frac{3 \\delta}{4} + \\frac{\\nu}{2} + v^{2} \\left(\\delta \\left(\\frac{9}{16} - \\frac{5 \\nu}{8}\\right) + \\nu \\left(\\frac{5}{4} - \\frac{\\nu}{24}\\right) + v^{2} \\left(\\delta \\left(\\nu \\left(\\frac{5 \\nu}{32} - \\frac{39}{8}\\right) + \\frac{27}{32}\\right) + \\nu \\left(\\nu \\left(- \\frac{\\nu}{48} - \\frac{105}{32}\\right) + \\frac{3}{16}\\right) + \\frac{27}{32}\\right) + \\frac{9}{16}\\right) + \\frac{3}{4}\\right) + \\hat{\\lambda} v^{3} \\left(S_{2 \\lambda} \\left(2.0 - 0.5 \\delta\\right) + v \\left(S_{1 \\lambda} \\left(0.75 \\delta - 3.0 \\kappa_{1} + 2.25\\right) + \\frac{S_{1 \\lambda} \\left(\\delta \\left(1.5 \\kappa_{1} - 0.75\\right) + 1.5 \\kappa_{1} - 0.75\\right)}{\\nu}\\right)\\right) + \\hat{n} v \\left(3.0 \\chi_{2 n} \\nu + v^{2} \\left(S_{1 n} \\left(\\delta \\left(2.25 \\kappa_{1} + 0.25\\right) + \\kappa_{1} \\cdot \\left(1.5 \\nu + 0.75\\right) + 0.5 \\nu + 3.25\\right) + \\frac{S_{1 n} \\left(\\delta \\left(0.75 \\kappa_{1} - 1.5\\right) + 0.75 \\kappa_{1} - 1.5\\right)}{\\nu} + S_{2 n} \\left(- 1.5 \\delta - 1.0 \\nu + 3.0\\right) + \\frac{v \\left(- 15.0 S_{1 n} S_{\\ell} \\kappa_{1} + \\frac{S_{1 n} S_{\\ell} \\left(7.5 \\delta \\kappa_{1} + 7.5 \\kappa_{1}\\right)}{\\nu} + 15.0 S_{2 n} S_{\\ell} + \\frac{9.0 S_{1 n} \\Sigma_{\\ell} \\delta \\kappa_{1} + \\frac{S_{1 n} \\Sigma_{\\ell} \\delta \\left(- 4.5 \\delta \\kappa_{1} - 4.5 \\kappa_{1}\\right)}{\\nu} - 9.0 S_{2 n} \\Sigma_{\\ell} \\delta}{M}\\right)}{M^{2}}\\right) + \\frac{3.0 M_{1}^{2} \\chi_{1 n}}{M^{2}}\\right) + v^{3} \\left(S_{2} \\cdot \\left(0.5 \\delta - 2.0\\right) + \\frac{v \\left(- 5.0 S_{2} S_{\\ell} + \\frac{3.0 S_{2} \\Sigma_{\\ell} \\delta}{M}\\right)}{M^{2}}\\right) - \\frac{M_{1}^{2} \\vec{\\chi}_{1} v}{M^{2}}\\right)$"
      ],
      "text/plain": [
       "          ⎛                                                                                                           \n",
       "          ⎜                                                                                                           \n",
       "          ⎜                                                                                                           \n",
       "          ⎜                                                                                                           \n",
       "          ⎜    ⎛3⋅δ   ν    2 ⎛  ⎛9    5⋅ν⎞     ⎛5   ν ⎞    2 ⎛  ⎛  ⎛5⋅ν   39⎞   27⎞     ⎛  ⎛  ν    105⎞   3 ⎞   27⎞   \n",
       "Ω_2_coeff⋅⎜el̂l⋅⎜─── + ─ + v ⋅⎜δ⋅⎜── - ───⎟ + ν⋅⎜─ - ──⎟ + v ⋅⎜δ⋅⎜ν⋅⎜─── - ──⎟ + ──⎟ + ν⋅⎜ν⋅⎜- ── - ───⎟ + ──⎟ + ──⎟ +\n",
       "          ⎜    ⎝ 4    2      ⎝  ⎝16    8 ⎠     ⎝4   24⎠      ⎝  ⎝  ⎝ 32   8 ⎠   32⎠     ⎝  ⎝  48    32⎠   16⎠   32⎠   \n",
       "          ⎝                                                                                                           \n",
       "\n",
       "                                                                                                                      \n",
       "                                                                                                                      \n",
       "                                                                                                                      \n",
       "                                                                                                                      \n",
       "9 ⎞   3⎞      3 ⎛                        ⎛                                 S_1_λ⋅(δ⋅(1.5⋅κ₁ - 0.75) + 1.5⋅κ₁ - 0.75)⎞⎞\n",
       " ──⎟ + ─⎟ + λ̂⋅v ⋅⎜S_2_λ⋅(2.0 - 0.5⋅δ) + v⋅⎜S_1_λ⋅(0.75⋅δ - 3.0⋅κ₁ + 2.25) + ─────────────────────────────────────────\n",
       "16⎠   4⎠        ⎝                        ⎝                                                     ν                    ⎠⎠\n",
       "                                                                                                                      \n",
       "\n",
       "       ⎛                ⎛                                                                                             \n",
       "       ⎜                ⎜                                                                                             \n",
       "       ⎜                ⎜                                                                                             \n",
       "       ⎜                ⎜                                                                                             \n",
       "       ⎜              2 ⎜                                                               S₁ ₙ⋅(δ⋅(0.75⋅κ₁ - 1.5) + 0.75\n",
       "⎟⎟ + n̂⋅v⋅⎜3.0⋅χ₂ ₙ⋅ν + v ⋅⎜S₁ ₙ⋅(δ⋅(2.25⋅κ₁ + 0.25) + κ₁⋅(1.5⋅ν + 0.75) + 0.5⋅ν + 3.25) + ───────────────────────────\n",
       "       ⎜                ⎜                                                                                  ν          \n",
       "       ⎝                ⎝                                                                                             \n",
       "\n",
       "                                         ⎛                                                                            \n",
       "                                         ⎜                                                                      9.0⋅S₁\n",
       "                                         ⎜                     S₁ ₙ⋅Sₑₗₗ⋅(7.5⋅δ⋅κ₁ + 7.5⋅κ₁)                          \n",
       "                                       v⋅⎜-15.0⋅S₁ ₙ⋅Sₑₗₗ⋅κ₁ + ───────────────────────────── + 15.0⋅S₂ ₙ⋅Sₑₗₗ + ──────\n",
       "⋅κ₁ - 1.5)                               ⎝                                   ν                                        \n",
       "───────────── + S₂ ₙ⋅(-1.5⋅δ - ν + 3.0) + ────────────────────────────────────────────────────────────────────────────\n",
       "                                                                                                                2     \n",
       "                                                                                                               M      \n",
       "\n",
       "               S₁ ₙ⋅Σₑₗₗ⋅δ⋅(-4.5⋅δ⋅κ₁ - 4.5⋅κ₁)                  ⎞⎞               ⎞                                   \n",
       " ₙ⋅Σₑₗₗ⋅δ⋅κ₁ + ──────────────────────────────── - 9.0⋅S₂ ₙ⋅Σₑₗₗ⋅δ⎟⎟               ⎟                                   \n",
       "                              ν                                  ⎟⎟               ⎟      ⎛                     ⎛      \n",
       "─────────────────────────────────────────────────────────────────⎟⎟         2     ⎟      ⎜                   v⋅⎜-5.0⋅S\n",
       "                             M                                   ⎠⎟   3.0⋅M₁ ⋅χ₁ ₙ⎟    3 ⎜                     ⎝      \n",
       "─────────────────────────────────────────────────────────────────────⎟ + ────────────⎟ + v ⋅⎜S₂⋅(0.5⋅δ - 2.0) + ──────\n",
       "                                                                  ⎟         2     ⎟      ⎜                            \n",
       "                                                                  ⎠        M      ⎠      ⎝                            \n",
       "\n",
       "                                   ⎞\n",
       "                                   ⎟\n",
       "         3.0⋅S₂⋅Σₑₗₗ⋅δ⎞⎞           ⎟\n",
       "₂⋅Sₑₗₗ + ─────────────⎟⎟     2     ⎟\n",
       "               M      ⎠⎟   M₁ ⋅χ⃗₁⋅v⎟\n",
       "──────────────────────────⎟ - ────────⎟\n",
       "       2               ⎟       2   ⎟\n",
       "      M                ⎠      M    ⎠"
      ]
     },
     "execution_count": 12,
     "metadata": {},
     "output_type": "execute_result"
    }
   ],
   "source": [
    "Precession_chiVec2Expression()"
   ]
  }
 ],
 "metadata": {
  "kernelspec": {
   "display_name": "Python 3 (ipykernel)",
   "language": "python",
   "name": "python3"
  },
  "language_info": {
   "codemirror_mode": {
    "name": "ipython",
    "version": 3
   },
   "file_extension": ".py",
   "mimetype": "text/x-python",
   "name": "python",
   "nbconvert_exporter": "python",
   "pygments_lexer": "ipython3",
   "version": "3.9.13"
  }
 },
 "nbformat": 4,
 "nbformat_minor": 1
}
